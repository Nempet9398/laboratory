{
  "nbformat": 4,
  "nbformat_minor": 0,
  "metadata": {
    "colab": {
      "name": "크롤링.ipynb",
      "provenance": [],
      "collapsed_sections": [
        "I4cY5qEvLdGJ",
        "txpshjL_LS-G"
      ],
      "authorship_tag": "ABX9TyPVu2z+nmejfOtRaFQOEQKr",
      "include_colab_link": true
    },
    "kernelspec": {
      "name": "python3",
      "display_name": "Python 3"
    },
    "language_info": {
      "name": "python"
    }
  },
  "cells": [
    {
      "cell_type": "markdown",
      "metadata": {
        "id": "view-in-github",
        "colab_type": "text"
      },
      "source": [
        "<a href=\"https://colab.research.google.com/github/Nempet9398/laboratory/blob/master/%ED%81%AC%EB%A1%A4%EB%A7%81.ipynb\" target=\"_parent\"><img src=\"https://colab.research.google.com/assets/colab-badge.svg\" alt=\"Open In Colab\"/></a>"
      ]
    },
    {
      "cell_type": "markdown",
      "source": [
        "### BeautifulSoup 사용"
      ],
      "metadata": {
        "id": "DOYDT7CEOeFK"
      }
    },
    {
      "cell_type": "code",
      "source": [
        "from bs4 import BeautifulSoup"
      ],
      "metadata": {
        "id": "hqfU6OZk8YDH"
      },
      "execution_count": 4,
      "outputs": []
    },
    {
      "cell_type": "markdown",
      "source": [
        "####HTML 예시를 통한 Tag, Tag Name, Attribute 조회"
      ],
      "metadata": {
        "id": "N_FR5Qe3JtY_"
      }
    },
    {
      "cell_type": "code",
      "source": [
        "html = '<td class=\"title\"><div class=\"tit3\"><a href=\"/movie/bi/mi/basic.nhn?code=136872\" title=\"미녀와 야수\">미녀와 야수</a></div></td>'\n",
        "\n",
        "soup = BeautifulSoup(html, 'html.parser')\n"
      ],
      "metadata": {
        "id": "XLaRHJu08fbs"
      },
      "execution_count": 15,
      "outputs": []
    },
    {
      "cell_type": "code",
      "source": [
        "tag = soup.td\n",
        "print(tag)"
      ],
      "metadata": {
        "colab": {
          "base_uri": "https://localhost:8080/"
        },
        "id": "5oTSfwjW859M",
        "outputId": "c901e3f8-52fa-4226-d2b0-d9c5544402c4"
      },
      "execution_count": null,
      "outputs": [
        {
          "output_type": "stream",
          "name": "stdout",
          "text": [
            "<td class=\"title\"><div class=\"tit3\"><a href=\"/movie/bi/mi/basic.nhn?code=136872\" title=\"미녀와 야수\">미녀와 야수</a></div></td>\n"
          ]
        }
      ]
    },
    {
      "cell_type": "code",
      "source": [
        "tag = soup.div\n",
        "print(tag)"
      ],
      "metadata": {
        "colab": {
          "base_uri": "https://localhost:8080/"
        },
        "id": "r28b7MRd94aC",
        "outputId": "f289e8d1-ad8c-4d47-e5ad-e243659e36c9"
      },
      "execution_count": null,
      "outputs": [
        {
          "output_type": "stream",
          "name": "stdout",
          "text": [
            "<div class=\"tit3\"><a href=\"/movie/bi/mi/basic.nhn?code=136872\" title=\"미녀와 야수\">미녀와 야수</a></div>\n"
          ]
        }
      ]
    },
    {
      "cell_type": "code",
      "source": [
        "tag = soup.a\n",
        "print(tag)"
      ],
      "metadata": {
        "colab": {
          "base_uri": "https://localhost:8080/"
        },
        "id": "Fw3TlkpZ_cny",
        "outputId": "4593d769-b8de-4d1a-cb6e-e2cfc6e6358c"
      },
      "execution_count": null,
      "outputs": [
        {
          "output_type": "stream",
          "name": "stdout",
          "text": [
            "<a href=\"/movie/bi/mi/basic.nhn?code=136872\" title=\"미녀와 야수\">미녀와 야수</a>\n"
          ]
        }
      ]
    },
    {
      "cell_type": "code",
      "source": [
        "tag = soup.td\n",
        "print(tag['class'])\n",
        "\n",
        "tag = soup.div\n",
        "print(tag['class'])\n",
        "\n",
        "print(tag.attrs)"
      ],
      "metadata": {
        "colab": {
          "base_uri": "https://localhost:8080/"
        },
        "id": "-MsIlVO2_kIe",
        "outputId": "51ce463b-9013-4e96-8a74-99d4bd57ffb0"
      },
      "execution_count": null,
      "outputs": [
        {
          "output_type": "stream",
          "name": "stdout",
          "text": [
            "['title']\n",
            "['tit3']\n",
            "{'class': ['tit3']}\n"
          ]
        }
      ]
    },
    {
      "cell_type": "code",
      "source": [
        "tag = soup.find('td', attrs={'class':'title'})\n",
        "print(tag)"
      ],
      "metadata": {
        "colab": {
          "base_uri": "https://localhost:8080/"
        },
        "id": "Jrmd6_VjAM-h",
        "outputId": "d007b06d-c4aa-4ddb-d99f-7b654ff5f8e6"
      },
      "execution_count": null,
      "outputs": [
        {
          "output_type": "stream",
          "name": "stdout",
          "text": [
            "<td class=\"title\"><div class=\"tit3\"><a href=\"/movie/bi/mi/basic.nhn?code=136872\" title=\"미녀와 야수\">미녀와 야수</a></div></td>\n"
          ]
        }
      ]
    },
    {
      "cell_type": "code",
      "source": [
        "tag = soup.find('div',attrs={'class':'tit3'})\n",
        "tag"
      ],
      "metadata": {
        "colab": {
          "base_uri": "https://localhost:8080/"
        },
        "id": "mmI2L1GkAoYH",
        "outputId": "9de734c5-31ae-495e-9de1-5d139a957760"
      },
      "execution_count": null,
      "outputs": [
        {
          "output_type": "execute_result",
          "data": {
            "text/plain": [
              "<div class=\"tit3\"><a href=\"/movie/bi/mi/basic.nhn?code=136872\" title=\"미녀와 야수\">미녀와 야수</a></div>"
            ]
          },
          "metadata": {},
          "execution_count": 27
        }
      ]
    },
    {
      "cell_type": "markdown",
      "source": [
        "#### 네이버 영화 순위 불러오기"
      ],
      "metadata": {
        "id": "ULIDRMQNOlr3"
      }
    },
    {
      "cell_type": "code",
      "source": [
        "import urllib.request\n",
        "from bs4 import BeautifulSoup\n",
        "html = urllib.request.urlopen('https://movie.naver.com/movie/sdb/rank/rmovie.naver')\n",
        "soup = BeautifulSoup(html, 'html.parser')\n",
        "\n"
      ],
      "metadata": {
        "id": "dU8SmHGHEU2l"
      },
      "execution_count": 16,
      "outputs": []
    },
    {
      "cell_type": "code",
      "source": [
        "tags = soup.findAll('div', attrs={'class':'tit3'})\n",
        "tags"
      ],
      "metadata": {
        "colab": {
          "base_uri": "https://localhost:8080/"
        },
        "id": "uFkin89KEU4W",
        "outputId": "a812579c-4fd0-4a8f-db92-1ed56fffa02d"
      },
      "execution_count": 17,
      "outputs": [
        {
          "output_type": "execute_result",
          "data": {
            "text/plain": [
              "[<div class=\"tit3\">\n",
              " <a href=\"/movie/bi/mi/basic.naver?code=81888\" title=\"탑건: 매버릭\">탑건: 매버릭</a>\n",
              " </div>, <div class=\"tit3\">\n",
              " <a href=\"/movie/bi/mi/basic.naver?code=196367\" title=\"마녀(魔女) Part2. The Other One\">마녀(魔女) Part2. The Other One</a>\n",
              " </div>, <div class=\"tit3\">\n",
              " <a href=\"/movie/bi/mi/basic.naver?code=192608\" title=\"범죄도시2\">범죄도시2</a>\n",
              " </div>, <div class=\"tit3\">\n",
              " <a href=\"/movie/bi/mi/basic.naver?code=196854\" title=\"브로커\">브로커</a>\n",
              " </div>, <div class=\"tit3\">\n",
              " <a href=\"/movie/bi/mi/basic.naver?code=198413\" title=\"헤어질 결심\">헤어질 결심</a>\n",
              " </div>, <div class=\"tit3\">\n",
              " <a href=\"/movie/bi/mi/basic.naver?code=182016\" title=\"닥터 스트레인지: 대혼돈의 멀티버스\">닥터 스트레인지: 대혼돈의 멀티버스</a>\n",
              " </div>, <div class=\"tit3\">\n",
              " <a href=\"/movie/bi/mi/basic.naver?code=214603\" title=\"버즈 라이트이어\">버즈 라이트이어</a>\n",
              " </div>, <div class=\"tit3\">\n",
              " <a href=\"/movie/bi/mi/basic.naver?code=191646\" title=\"쥬라기 월드: 도미니언\">쥬라기 월드: 도미니언</a>\n",
              " </div>, <div class=\"tit3\">\n",
              " <a href=\"/movie/bi/mi/basic.naver?code=187347\" title=\"토르: 러브 앤 썬더\">토르: 러브 앤 썬더</a>\n",
              " </div>, <div class=\"tit3\">\n",
              " <a href=\"/movie/bi/mi/basic.naver?code=10100\" title=\"탑건\">탑건</a>\n",
              " </div>, <div class=\"tit3\">\n",
              " <a href=\"/movie/bi/mi/basic.naver?code=210031\" title=\"실종\">실종</a>\n",
              " </div>, <div class=\"tit3\">\n",
              " <a href=\"/movie/bi/mi/basic.naver?code=216100\" title=\"그대가 조국\">그대가 조국</a>\n",
              " </div>, <div class=\"tit3\">\n",
              " <a href=\"/movie/bi/mi/basic.naver?code=198472\" title=\"니얼굴\">니얼굴</a>\n",
              " </div>, <div class=\"tit3\">\n",
              " <a href=\"/movie/bi/mi/basic.naver?code=216171\" title=\"룸 쉐어링\">룸 쉐어링</a>\n",
              " </div>, <div class=\"tit3\">\n",
              " <a href=\"/movie/bi/mi/basic.naver?code=194196\" title=\"한산: 용의 출현\">한산: 용의 출현</a>\n",
              " </div>, <div class=\"tit3\">\n",
              " <a href=\"/movie/bi/mi/basic.naver?code=192151\" title=\"외계+인 1부\">외계+인 1부</a>\n",
              " </div>, <div class=\"tit3\">\n",
              " <a href=\"/movie/bi/mi/basic.naver?code=213487\" title=\"극장판 윌벤져스 : 수상한 캠핑 대소동\">극장판 윌벤져스 : 수상한 캠핑 대소동</a>\n",
              " </div>, <div class=\"tit3\">\n",
              " <a href=\"/movie/bi/mi/basic.naver?code=218055\" title=\"두개의 눈\">두개의 눈</a>\n",
              " </div>, <div class=\"tit3\">\n",
              " <a href=\"/movie/bi/mi/basic.naver?code=216482\" title=\"미친 능력\">미친 능력</a>\n",
              " </div>, <div class=\"tit3\">\n",
              " <a href=\"/movie/bi/mi/basic.naver?code=195758\" title=\"헌트\">헌트</a>\n",
              " </div>, <div class=\"tit3\">\n",
              " <a href=\"/movie/bi/mi/basic.naver?code=159812\" title=\"니 부모 얼굴이 보고 싶다\">니 부모 얼굴이 보고 싶다</a>\n",
              " </div>, <div class=\"tit3\">\n",
              " <a href=\"/movie/bi/mi/basic.naver?code=10128\" title=\"디어 헌터\">디어 헌터</a>\n",
              " </div>, <div class=\"tit3\">\n",
              " <a href=\"/movie/bi/mi/basic.naver?code=218223\" title=\"스파이더헤드\">스파이더헤드</a>\n",
              " </div>, <div class=\"tit3\">\n",
              " <a href=\"/movie/bi/mi/basic.naver?code=50368\" title=\"극장판 포켓몬스터DP: 기라티나와 하늘의 꽃다발 쉐이미\">극장판 포켓몬스터DP: 기라티나와 하늘의 꽃다발 쉐이미</a>\n",
              " </div>, <div class=\"tit3\">\n",
              " <a href=\"/movie/bi/mi/basic.naver?code=217720\" title=\"더 킬러: 죽어도 되는 아이\">더 킬러: 죽어도 되는 아이</a>\n",
              " </div>, <div class=\"tit3\">\n",
              " <a href=\"/movie/bi/mi/basic.naver?code=191634\" title=\"미니언즈2\">미니언즈2</a>\n",
              " </div>, <div class=\"tit3\">\n",
              " <a href=\"/movie/bi/mi/basic.naver?code=175322\" title=\"마녀\">마녀</a>\n",
              " </div>, <div class=\"tit3\">\n",
              " <a href=\"/movie/bi/mi/basic.naver?code=208144\" title=\"모어\">모어</a>\n",
              " </div>, <div class=\"tit3\">\n",
              " <a href=\"/movie/bi/mi/basic.naver?code=194598\" title=\"리멤버 미\">리멤버 미</a>\n",
              " </div>, <div class=\"tit3\">\n",
              " <a href=\"/movie/bi/mi/basic.naver?code=213733\" title=\"극장판 주술회전 0\">극장판 주술회전 0</a>\n",
              " </div>, <div class=\"tit3\">\n",
              " <a href=\"/movie/bi/mi/basic.naver?code=213539\" title=\"개들의 도시\">개들의 도시</a>\n",
              " </div>, <div class=\"tit3\">\n",
              " <a href=\"/movie/bi/mi/basic.naver?code=217472\" title=\"엘비스\">엘비스</a>\n",
              " </div>, <div class=\"tit3\">\n",
              " <a href=\"/movie/bi/mi/basic.naver?code=209738\" title=\"뒤틀린 집\">뒤틀린 집</a>\n",
              " </div>, <div class=\"tit3\">\n",
              " <a href=\"/movie/bi/mi/basic.naver?code=208431\" title=\"컴온 컴온\">컴온 컴온</a>\n",
              " </div>, <div class=\"tit3\">\n",
              " <a href=\"/movie/bi/mi/basic.naver?code=201810\" title=\"아부쟁이\">아부쟁이</a>\n",
              " </div>, <div class=\"tit3\">\n",
              " <a href=\"/movie/bi/mi/basic.naver?code=201335\" title=\"고스트랜드\">고스트랜드</a>\n",
              " </div>, <div class=\"tit3\">\n",
              " <a href=\"/movie/bi/mi/basic.naver?code=208772\" title=\"카시오페아\">카시오페아</a>\n",
              " </div>, <div class=\"tit3\">\n",
              " <a href=\"/movie/bi/mi/basic.naver?code=212082\" title=\"감동주의보\">감동주의보</a>\n",
              " </div>, <div class=\"tit3\">\n",
              " <a href=\"/movie/bi/mi/basic.naver?code=184519\" title=\"비상선언\">비상선언</a>\n",
              " </div>, <div class=\"tit3\">\n",
              " <a href=\"/movie/bi/mi/basic.naver?code=190374\" title=\"앵커\">앵커</a>\n",
              " </div>, <div class=\"tit3\">\n",
              " <a href=\"/movie/bi/mi/basic.naver?code=213555\" title=\"잭 인 더 박스\">잭 인 더 박스</a>\n",
              " </div>, <div class=\"tit3\">\n",
              " <a href=\"/movie/bi/mi/basic.naver?code=213478\" title=\"우스운게 딱! 좋아!\">우스운게 딱! 좋아!</a>\n",
              " </div>, <div class=\"tit3\">\n",
              " <a href=\"/movie/bi/mi/basic.naver?code=164122\" title=\"신비한 동물들과 덤블도어의 비밀\">신비한 동물들과 덤블도어의 비밀</a>\n",
              " </div>, <div class=\"tit3\">\n",
              " <a href=\"/movie/bi/mi/basic.naver?code=213451\" title=\"큐브\">큐브</a>\n",
              " </div>, <div class=\"tit3\">\n",
              " <a href=\"/movie/bi/mi/basic.naver?code=190695\" title=\"모비우스\">모비우스</a>\n",
              " </div>, <div class=\"tit3\">\n",
              " <a href=\"/movie/bi/mi/basic.naver?code=201848\" title=\"센티그레이드\">센티그레이드</a>\n",
              " </div>, <div class=\"tit3\">\n",
              " <a href=\"/movie/bi/mi/basic.naver?code=164117\" title=\"무쌍\">무쌍</a>\n",
              " </div>, <div class=\"tit3\">\n",
              " <a href=\"/movie/bi/mi/basic.naver?code=216272\" title=\"경아의 딸\">경아의 딸</a>\n",
              " </div>, <div class=\"tit3\">\n",
              " <a href=\"/movie/bi/mi/basic.naver?code=179399\" title=\"기도하는 남자\">기도하는 남자</a>\n",
              " </div>, <div class=\"tit3\">\n",
              " <a href=\"/movie/bi/mi/basic.naver?code=214552\" title=\"놉\">놉</a>\n",
              " </div>]"
            ]
          },
          "metadata": {},
          "execution_count": 17
        }
      ]
    },
    {
      "cell_type": "code",
      "source": [
        "for tag in tags:\n",
        "    print(tag.a)"
      ],
      "metadata": {
        "colab": {
          "base_uri": "https://localhost:8080/"
        },
        "id": "AYnoUqI7I9V1",
        "outputId": "6e0e2eea-88f4-4529-aa2a-1bd96a0a6639"
      },
      "execution_count": null,
      "outputs": [
        {
          "output_type": "stream",
          "name": "stdout",
          "text": [
            "<a href=\"/movie/bi/mi/basic.naver?code=81888\" title=\"탑건: 매버릭\">탑건: 매버릭</a>\n",
            "<a href=\"/movie/bi/mi/basic.naver?code=196367\" title=\"마녀(魔女) Part2. The Other One\">마녀(魔女) Part2. The Other One</a>\n",
            "<a href=\"/movie/bi/mi/basic.naver?code=192608\" title=\"범죄도시2\">범죄도시2</a>\n",
            "<a href=\"/movie/bi/mi/basic.naver?code=196854\" title=\"브로커\">브로커</a>\n",
            "<a href=\"/movie/bi/mi/basic.naver?code=214603\" title=\"버즈 라이트이어\">버즈 라이트이어</a>\n",
            "<a href=\"/movie/bi/mi/basic.naver?code=198413\" title=\"헤어질 결심\">헤어질 결심</a>\n",
            "<a href=\"/movie/bi/mi/basic.naver?code=182016\" title=\"닥터 스트레인지: 대혼돈의 멀티버스\">닥터 스트레인지: 대혼돈의 멀티버스</a>\n",
            "<a href=\"/movie/bi/mi/basic.naver?code=191646\" title=\"쥬라기 월드: 도미니언\">쥬라기 월드: 도미니언</a>\n",
            "<a href=\"/movie/bi/mi/basic.naver?code=187347\" title=\"토르: 러브 앤 썬더\">토르: 러브 앤 썬더</a>\n",
            "<a href=\"/movie/bi/mi/basic.naver?code=210031\" title=\"실종\">실종</a>\n",
            "<a href=\"/movie/bi/mi/basic.naver?code=10100\" title=\"탑건\">탑건</a>\n",
            "<a href=\"/movie/bi/mi/basic.naver?code=216100\" title=\"그대가 조국\">그대가 조국</a>\n",
            "<a href=\"/movie/bi/mi/basic.naver?code=198472\" title=\"니얼굴\">니얼굴</a>\n",
            "<a href=\"/movie/bi/mi/basic.naver?code=216171\" title=\"룸 쉐어링\">룸 쉐어링</a>\n",
            "<a href=\"/movie/bi/mi/basic.naver?code=192151\" title=\"외계+인 1부\">외계+인 1부</a>\n",
            "<a href=\"/movie/bi/mi/basic.naver?code=213487\" title=\"극장판 윌벤져스 : 수상한 캠핑 대소동\">극장판 윌벤져스 : 수상한 캠핑 대소동</a>\n",
            "<a href=\"/movie/bi/mi/basic.naver?code=218223\" title=\"스파이더헤드\">스파이더헤드</a>\n",
            "<a href=\"/movie/bi/mi/basic.naver?code=194196\" title=\"한산: 용의 출현\">한산: 용의 출현</a>\n",
            "<a href=\"/movie/bi/mi/basic.naver?code=218055\" title=\"두개의 눈\">두개의 눈</a>\n",
            "<a href=\"/movie/bi/mi/basic.naver?code=50368\" title=\"극장판 포켓몬스터DP: 기라티나와 하늘의 꽃다발 쉐이미\">극장판 포켓몬스터DP: 기라티나와 하늘의 꽃다발 쉐이미</a>\n",
            "<a href=\"/movie/bi/mi/basic.naver?code=195758\" title=\"헌트\">헌트</a>\n",
            "<a href=\"/movie/bi/mi/basic.naver?code=10128\" title=\"디어 헌터\">디어 헌터</a>\n",
            "<a href=\"/movie/bi/mi/basic.naver?code=208144\" title=\"모어\">모어</a>\n",
            "<a href=\"/movie/bi/mi/basic.naver?code=175322\" title=\"마녀\">마녀</a>\n",
            "<a href=\"/movie/bi/mi/basic.naver?code=216482\" title=\"미친 능력\">미친 능력</a>\n",
            "<a href=\"/movie/bi/mi/basic.naver?code=184519\" title=\"비상선언\">비상선언</a>\n",
            "<a href=\"/movie/bi/mi/basic.naver?code=217720\" title=\"더 킬러: 죽어도 되는 아이\">더 킬러: 죽어도 되는 아이</a>\n",
            "<a href=\"/movie/bi/mi/basic.naver?code=208772\" title=\"카시오페아\">카시오페아</a>\n",
            "<a href=\"/movie/bi/mi/basic.naver?code=191634\" title=\"미니언즈2\">미니언즈2</a>\n",
            "<a href=\"/movie/bi/mi/basic.naver?code=213733\" title=\"극장판 주술회전 0\">극장판 주술회전 0</a>\n",
            "<a href=\"/movie/bi/mi/basic.naver?code=216272\" title=\"경아의 딸\">경아의 딸</a>\n",
            "<a href=\"/movie/bi/mi/basic.naver?code=159812\" title=\"니 부모 얼굴이 보고 싶다\">니 부모 얼굴이 보고 싶다</a>\n",
            "<a href=\"/movie/bi/mi/basic.naver?code=208431\" title=\"컴온 컴온\">컴온 컴온</a>\n",
            "<a href=\"/movie/bi/mi/basic.naver?code=194598\" title=\"리멤버 미\">리멤버 미</a>\n",
            "<a href=\"/movie/bi/mi/basic.naver?code=201810\" title=\"아부쟁이\">아부쟁이</a>\n",
            "<a href=\"/movie/bi/mi/basic.naver?code=213539\" title=\"개들의 도시\">개들의 도시</a>\n",
            "<a href=\"/movie/bi/mi/basic.naver?code=201848\" title=\"센티그레이드\">센티그레이드</a>\n",
            "<a href=\"/movie/bi/mi/basic.naver?code=213535\" title=\"더 렛지\">더 렛지</a>\n",
            "<a href=\"/movie/bi/mi/basic.naver?code=214611\" title=\"민스미트 작전\">민스미트 작전</a>\n",
            "<a href=\"/movie/bi/mi/basic.naver?code=212082\" title=\"감동주의보\">감동주의보</a>\n",
            "<a href=\"/movie/bi/mi/basic.naver?code=164122\" title=\"신비한 동물들과 덤블도어의 비밀\">신비한 동물들과 덤블도어의 비밀</a>\n",
            "<a href=\"/movie/bi/mi/basic.naver?code=213478\" title=\"우스운게 딱! 좋아!\">우스운게 딱! 좋아!</a>\n",
            "<a href=\"/movie/bi/mi/basic.naver?code=201335\" title=\"고스트랜드\">고스트랜드</a>\n",
            "<a href=\"/movie/bi/mi/basic.naver?code=172174\" title=\"어느 가족\">어느 가족</a>\n",
            "<a href=\"/movie/bi/mi/basic.naver?code=206637\" title=\"애프터 양\">애프터 양</a>\n",
            "<a href=\"/movie/bi/mi/basic.naver?code=217023\" title=\"이공삼칠\">이공삼칠</a>\n",
            "<a href=\"/movie/bi/mi/basic.naver?code=209738\" title=\"뒤틀린 집\">뒤틀린 집</a>\n",
            "<a href=\"/movie/bi/mi/basic.naver?code=191613\" title=\"클라우스\">클라우스</a>\n",
            "<a href=\"/movie/bi/mi/basic.naver?code=217472\" title=\"엘비스\">엘비스</a>\n",
            "<a href=\"/movie/bi/mi/basic.naver?code=216269\" title=\"윤시내가 사라졌다\">윤시내가 사라졌다</a>\n"
          ]
        }
      ]
    },
    {
      "cell_type": "code",
      "source": [
        "for tag in tags:\n",
        "    print(tag.a['title'])"
      ],
      "metadata": {
        "colab": {
          "base_uri": "https://localhost:8080/"
        },
        "id": "FalWVV8KUu7X",
        "outputId": "6233ca31-02fb-4110-eae9-9a5d308058be"
      },
      "execution_count": 53,
      "outputs": [
        {
          "output_type": "stream",
          "name": "stdout",
          "text": [
            "탑건: 매버릭\n",
            "마녀(魔女) Part2. The Other One\n",
            "범죄도시2\n",
            "브로커\n",
            "헤어질 결심\n",
            "닥터 스트레인지: 대혼돈의 멀티버스\n",
            "버즈 라이트이어\n",
            "쥬라기 월드: 도미니언\n",
            "토르: 러브 앤 썬더\n",
            "탑건\n",
            "실종\n",
            "그대가 조국\n",
            "니얼굴\n",
            "룸 쉐어링\n",
            "극장판 윌벤져스 : 수상한 캠핑 대소동\n",
            "외계+인 1부\n",
            "헌트\n",
            "한산: 용의 출현\n",
            "두개의 눈\n",
            "스파이더헤드\n",
            "극장판 포켓몬스터DP: 기라티나와 하늘의 꽃다발 쉐이미\n",
            "미친 능력\n",
            "더 킬러: 죽어도 되는 아이\n",
            "마녀\n",
            "디어 헌터\n",
            "니 부모 얼굴이 보고 싶다\n",
            "극장판 주술회전 0\n",
            "모어\n",
            "미니언즈2\n",
            "뒤틀린 집\n",
            "컴온 컴온\n",
            "리멤버 미\n",
            "비상선언\n",
            "아부쟁이\n",
            "개들의 도시\n",
            "카시오페아\n",
            "엘비스\n",
            "감동주의보\n",
            "민스미트 작전\n",
            "신비한 동물들과 덤블도어의 비밀\n",
            "고스트랜드\n",
            "경아의 딸\n",
            "센티그레이드\n",
            "잭 인 더 박스\n",
            "앵커\n",
            "그레이 맨\n",
            "더 렛지\n",
            "모비우스\n",
            "우스운게 딱! 좋아!\n",
            "큐브\n"
          ]
        }
      ]
    },
    {
      "cell_type": "markdown",
      "source": [
        "###Selenium 사용하여 굽네치킨 크롤링 하기"
      ],
      "metadata": {
        "id": "vUvcBAv2OU9h"
      }
    },
    {
      "cell_type": "markdown",
      "source": [
        "####셀레니움 실행을 위한 코드"
      ],
      "metadata": {
        "id": "VB2BEYYFOIR6"
      }
    },
    {
      "cell_type": "code",
      "source": [
        "#처음 한번만 실행\n",
        "!pip install selenium\n",
        "!apt-get update\n",
        "!apt install chromium-chromedriver\n",
        "\n",
        " "
      ],
      "metadata": {
        "id": "o9qBGlYww1wT"
      },
      "execution_count": null,
      "outputs": []
    },
    {
      "cell_type": "code",
      "source": [
        "from selenium import webdriver\n",
        "\n",
        "## 창을 띄우지 않고 할 수 있도록 설정\n",
        "options = webdriver.ChromeOptions()\n",
        "options.add_argument('--headless')      \n",
        "options.add_argument('--no-sandbox')            \n",
        "options.add_argument('--disable-dev-shm-usage')"
      ],
      "metadata": {
        "id": "le1CZF_exLiW"
      },
      "execution_count": 18,
      "outputs": []
    },
    {
      "cell_type": "markdown",
      "source": [
        "#### 굽네치킨 매장 정보 크롤링"
      ],
      "metadata": {
        "id": "OOo5-KSlYAhn"
      }
    },
    {
      "cell_type": "markdown",
      "source": [
        "##### 첫번째 페이지에 대해 크롤링 실행"
      ],
      "metadata": {
        "id": "0qPNVbHfLoSb"
      }
    },
    {
      "cell_type": "code",
      "source": [
        "from selenium import webdriver\n",
        "import urllib.request\n",
        "import time\n",
        "import pandas as pd\n",
        "from selenium.webdriver.common.keys import Keys\n",
        "\n",
        "## driver에 option을 설정한 후 webdriver.Chrome 할당\n",
        "driver = webdriver.Chrome('chromedriver', options=options)\n",
        "\n",
        "goobne_url = 'http://www.goobne.co.kr/store/search_store.jsp?page=1'\n",
        "driver.get(goobne_url)\n",
        "\n",
        "driver.execute_script(\"store.getList('1')\")\n",
        "print(\"PageIndex [1] Called\" )\n",
        "\n",
        "## 페이지가 불러오지지 않을 경우 데이터가 없으므로 페이지 불러오기 위한 time.sleep(3)\n",
        "time.sleep(3)\n",
        "rcv_data = driver.page_source\n",
        "soupData=BeautifulSoup(rcv_data, 'html.parser')\n",
        "\n",
        "\n",
        "##store_list에 있는 모든 html 크롤링\n",
        "tags_div = soupData.find('tbody', attrs={'id':'store_list'})\n",
        "    \n",
        "##tbody에서 tr 긁어오기\n",
        "tags_tr = tags_div.findAll('tr')\n",
        "\n",
        "##tags_tr에서 각 tag_tr에 대해 string만 뽑아낸 후 매장명, 주소, 매장번호 입력\n",
        "results = []\n",
        "for tag_tr in tags_tr:\n",
        "    strings = list(tag_tr.strings)\n",
        "    name = strings[1]\n",
        "    telephone = strings[3]\n",
        "    address = strings[6]\n",
        "\n",
        "    results.append((name, address, telephone))\n",
        "\n",
        "table = pd.DataFrame(results, columns = ['name', 'address','telephone'])\n",
        "table"
      ],
      "metadata": {
        "id": "QWtlSuFi2kFV",
        "colab": {
          "base_uri": "https://localhost:8080/",
          "height": 381
        },
        "outputId": "91a4cf4d-c2e7-4e6b-f34b-6dbfa53be1b6"
      },
      "execution_count": 83,
      "outputs": [
        {
          "output_type": "stream",
          "name": "stdout",
          "text": [
            "PageIndex [1] Called\n"
          ]
        },
        {
          "output_type": "execute_result",
          "data": {
            "text/plain": [
              "       name                                     address     telephone\n",
              "0     흥덕지구점              경기도 용인시 기흥구  흥덕1로 79번길 9, 105호  031-212-9293\n",
              "1       후곡점                       경기도 고양시 일산서구  일산로 576  031-913-9289\n",
              "2  효자중화산2호점  전라북도 전주시 완산구  용머리로 101 상가2동 지1층 201호, 202호  063-223-9492\n",
              "3  효자중화산1호점            전라북도 전주시완산구  효동3길 24  1층 (효자동1가)  063-232-8294\n",
              "4     효성2동점                      인천광역시 계양구  마장로 549, 1층  032-547-8294\n",
              "5       회덕점                           경기도 광주시  이배재로 108  031-797-9293\n",
              "6     황상인의점                            경상북도 구미시  여현로 80  054-473-9482\n",
              "7       화천점                        강원도 화천군 화천읍 중앙로 37번지  033-442-9994\n",
              "8     화정1동점                   경기도 고양시 덕양구  은빛로29번길 15-4  031-967-9592\n",
              "9       화양점                   서울특별시 광진구   능동로19길 53, 1층   02-461-9993"
            ],
            "text/html": [
              "\n",
              "  <div id=\"df-49ab79dd-b01b-463e-926d-07fb2c293e0b\">\n",
              "    <div class=\"colab-df-container\">\n",
              "      <div>\n",
              "<style scoped>\n",
              "    .dataframe tbody tr th:only-of-type {\n",
              "        vertical-align: middle;\n",
              "    }\n",
              "\n",
              "    .dataframe tbody tr th {\n",
              "        vertical-align: top;\n",
              "    }\n",
              "\n",
              "    .dataframe thead th {\n",
              "        text-align: right;\n",
              "    }\n",
              "</style>\n",
              "<table border=\"1\" class=\"dataframe\">\n",
              "  <thead>\n",
              "    <tr style=\"text-align: right;\">\n",
              "      <th></th>\n",
              "      <th>name</th>\n",
              "      <th>address</th>\n",
              "      <th>telephone</th>\n",
              "    </tr>\n",
              "  </thead>\n",
              "  <tbody>\n",
              "    <tr>\n",
              "      <th>0</th>\n",
              "      <td>흥덕지구점</td>\n",
              "      <td>경기도 용인시 기흥구  흥덕1로 79번길 9, 105호</td>\n",
              "      <td>031-212-9293</td>\n",
              "    </tr>\n",
              "    <tr>\n",
              "      <th>1</th>\n",
              "      <td>후곡점</td>\n",
              "      <td>경기도 고양시 일산서구  일산로 576</td>\n",
              "      <td>031-913-9289</td>\n",
              "    </tr>\n",
              "    <tr>\n",
              "      <th>2</th>\n",
              "      <td>효자중화산2호점</td>\n",
              "      <td>전라북도 전주시 완산구  용머리로 101 상가2동 지1층 201호, 202호</td>\n",
              "      <td>063-223-9492</td>\n",
              "    </tr>\n",
              "    <tr>\n",
              "      <th>3</th>\n",
              "      <td>효자중화산1호점</td>\n",
              "      <td>전라북도 전주시완산구  효동3길 24  1층 (효자동1가)</td>\n",
              "      <td>063-232-8294</td>\n",
              "    </tr>\n",
              "    <tr>\n",
              "      <th>4</th>\n",
              "      <td>효성2동점</td>\n",
              "      <td>인천광역시 계양구  마장로 549, 1층</td>\n",
              "      <td>032-547-8294</td>\n",
              "    </tr>\n",
              "    <tr>\n",
              "      <th>5</th>\n",
              "      <td>회덕점</td>\n",
              "      <td>경기도 광주시  이배재로 108</td>\n",
              "      <td>031-797-9293</td>\n",
              "    </tr>\n",
              "    <tr>\n",
              "      <th>6</th>\n",
              "      <td>황상인의점</td>\n",
              "      <td>경상북도 구미시  여현로 80</td>\n",
              "      <td>054-473-9482</td>\n",
              "    </tr>\n",
              "    <tr>\n",
              "      <th>7</th>\n",
              "      <td>화천점</td>\n",
              "      <td>강원도 화천군 화천읍 중앙로 37번지</td>\n",
              "      <td>033-442-9994</td>\n",
              "    </tr>\n",
              "    <tr>\n",
              "      <th>8</th>\n",
              "      <td>화정1동점</td>\n",
              "      <td>경기도 고양시 덕양구  은빛로29번길 15-4</td>\n",
              "      <td>031-967-9592</td>\n",
              "    </tr>\n",
              "    <tr>\n",
              "      <th>9</th>\n",
              "      <td>화양점</td>\n",
              "      <td>서울특별시 광진구   능동로19길 53, 1층</td>\n",
              "      <td>02-461-9993</td>\n",
              "    </tr>\n",
              "  </tbody>\n",
              "</table>\n",
              "</div>\n",
              "      <button class=\"colab-df-convert\" onclick=\"convertToInteractive('df-49ab79dd-b01b-463e-926d-07fb2c293e0b')\"\n",
              "              title=\"Convert this dataframe to an interactive table.\"\n",
              "              style=\"display:none;\">\n",
              "        \n",
              "  <svg xmlns=\"http://www.w3.org/2000/svg\" height=\"24px\"viewBox=\"0 0 24 24\"\n",
              "       width=\"24px\">\n",
              "    <path d=\"M0 0h24v24H0V0z\" fill=\"none\"/>\n",
              "    <path d=\"M18.56 5.44l.94 2.06.94-2.06 2.06-.94-2.06-.94-.94-2.06-.94 2.06-2.06.94zm-11 1L8.5 8.5l.94-2.06 2.06-.94-2.06-.94L8.5 2.5l-.94 2.06-2.06.94zm10 10l.94 2.06.94-2.06 2.06-.94-2.06-.94-.94-2.06-.94 2.06-2.06.94z\"/><path d=\"M17.41 7.96l-1.37-1.37c-.4-.4-.92-.59-1.43-.59-.52 0-1.04.2-1.43.59L10.3 9.45l-7.72 7.72c-.78.78-.78 2.05 0 2.83L4 21.41c.39.39.9.59 1.41.59.51 0 1.02-.2 1.41-.59l7.78-7.78 2.81-2.81c.8-.78.8-2.07 0-2.86zM5.41 20L4 18.59l7.72-7.72 1.47 1.35L5.41 20z\"/>\n",
              "  </svg>\n",
              "      </button>\n",
              "      \n",
              "  <style>\n",
              "    .colab-df-container {\n",
              "      display:flex;\n",
              "      flex-wrap:wrap;\n",
              "      gap: 12px;\n",
              "    }\n",
              "\n",
              "    .colab-df-convert {\n",
              "      background-color: #E8F0FE;\n",
              "      border: none;\n",
              "      border-radius: 50%;\n",
              "      cursor: pointer;\n",
              "      display: none;\n",
              "      fill: #1967D2;\n",
              "      height: 32px;\n",
              "      padding: 0 0 0 0;\n",
              "      width: 32px;\n",
              "    }\n",
              "\n",
              "    .colab-df-convert:hover {\n",
              "      background-color: #E2EBFA;\n",
              "      box-shadow: 0px 1px 2px rgba(60, 64, 67, 0.3), 0px 1px 3px 1px rgba(60, 64, 67, 0.15);\n",
              "      fill: #174EA6;\n",
              "    }\n",
              "\n",
              "    [theme=dark] .colab-df-convert {\n",
              "      background-color: #3B4455;\n",
              "      fill: #D2E3FC;\n",
              "    }\n",
              "\n",
              "    [theme=dark] .colab-df-convert:hover {\n",
              "      background-color: #434B5C;\n",
              "      box-shadow: 0px 1px 3px 1px rgba(0, 0, 0, 0.15);\n",
              "      filter: drop-shadow(0px 1px 2px rgba(0, 0, 0, 0.3));\n",
              "      fill: #FFFFFF;\n",
              "    }\n",
              "  </style>\n",
              "\n",
              "      <script>\n",
              "        const buttonEl =\n",
              "          document.querySelector('#df-49ab79dd-b01b-463e-926d-07fb2c293e0b button.colab-df-convert');\n",
              "        buttonEl.style.display =\n",
              "          google.colab.kernel.accessAllowed ? 'block' : 'none';\n",
              "\n",
              "        async function convertToInteractive(key) {\n",
              "          const element = document.querySelector('#df-49ab79dd-b01b-463e-926d-07fb2c293e0b');\n",
              "          const dataTable =\n",
              "            await google.colab.kernel.invokeFunction('convertToInteractive',\n",
              "                                                     [key], {});\n",
              "          if (!dataTable) return;\n",
              "\n",
              "          const docLinkHtml = 'Like what you see? Visit the ' +\n",
              "            '<a target=\"_blank\" href=https://colab.research.google.com/notebooks/data_table.ipynb>data table notebook</a>'\n",
              "            + ' to learn more about interactive tables.';\n",
              "          element.innerHTML = '';\n",
              "          dataTable['output_type'] = 'display_data';\n",
              "          await google.colab.output.renderOutput(dataTable, element);\n",
              "          const docLink = document.createElement('div');\n",
              "          docLink.innerHTML = docLinkHtml;\n",
              "          element.appendChild(docLink);\n",
              "        }\n",
              "      </script>\n",
              "    </div>\n",
              "  </div>\n",
              "  "
            ]
          },
          "metadata": {},
          "execution_count": 83
        }
      ]
    },
    {
      "cell_type": "markdown",
      "source": [
        "##### 함수화"
      ],
      "metadata": {
        "id": "0lryH5tagzpU"
      }
    },
    {
      "cell_type": "code",
      "source": [
        "def Goobneaddress():\n",
        "\n",
        "    goobne_url = 'http://www.goobne.co.kr/store/search_store.jsp'\n",
        "\n",
        "    wd = webdriver.Chrome('chromedriver',chrome_options=options)\n",
        "    wd.get(goobne_url)\n",
        "    time.sleep(3)\n",
        "    \n",
        "    ## 페이지는 113페이지까지 있으나 시간을 위해 5페이지까지 탐색\n",
        "    for page_idx in range(1,6):\n",
        "\n",
        "        ##자바스크립트 실행후 데이터 탐색\n",
        "        wd.execute_script(\"store.getList('%s')\"%str(page_idx))\n",
        "        print(\"PageIndex [%s] Called\" %(str(page_idx)))\n",
        "        time.sleep(3)\n",
        "        rcv_data = driver.page_source\n",
        "        soupData=BeautifulSoup(rcv_data, 'html.parser')\n",
        "\n",
        "        ##store_list에 있는 모든 html 크롤링\n",
        "        tags_div = soupData.find('tbody', attrs={'id':'store_list'})\n",
        "\n",
        "        ##tbody에서 tr 긁어오기\n",
        "        tags_tr = tags_div.findAll('tr')\n",
        "\n",
        "        results = []\n",
        "\n",
        "        for tag_tr in tags_tr:\n",
        "            strings = list(tag_tr.strings)\n",
        "            name = strings[1]\n",
        "            telephone = strings[3]\n",
        "            address = strings[6]\n",
        "            results.append((name, address, telephone))\n",
        "\n",
        "    table = pd.DataFrame(results, columns = ['name', 'address','telephone'])\n",
        "    return(table)\n"
      ],
      "metadata": {
        "id": "MbDtYfl-32v_"
      },
      "execution_count": 84,
      "outputs": []
    },
    {
      "cell_type": "code",
      "source": [
        "goobne_table = Goobneaddress()\n",
        "goobne_table"
      ],
      "metadata": {
        "colab": {
          "base_uri": "https://localhost:8080/",
          "height": 491
        },
        "id": "80rxgRCnF-D_",
        "outputId": "7ed591b9-078f-4609-a6a9-6df1dc4fb231"
      },
      "execution_count": 85,
      "outputs": [
        {
          "output_type": "stream",
          "name": "stderr",
          "text": [
            "/usr/local/lib/python3.7/dist-packages/ipykernel_launcher.py:5: DeprecationWarning: use options instead of chrome_options\n",
            "  \"\"\"\n"
          ]
        },
        {
          "output_type": "stream",
          "name": "stdout",
          "text": [
            "PageIndex [1] Called\n",
            "PageIndex [2] Called\n",
            "PageIndex [3] Called\n",
            "PageIndex [4] Called\n",
            "PageIndex [5] Called\n"
          ]
        },
        {
          "output_type": "execute_result",
          "data": {
            "text/plain": [
              "       name                                     address     telephone\n",
              "0     흥덕지구점              경기도 용인시 기흥구  흥덕1로 79번길 9, 105호  031-212-9293\n",
              "1       후곡점                       경기도 고양시 일산서구  일산로 576  031-913-9289\n",
              "2  효자중화산2호점  전라북도 전주시 완산구  용머리로 101 상가2동 지1층 201호, 202호  063-223-9492\n",
              "3  효자중화산1호점            전라북도 전주시완산구  효동3길 24  1층 (효자동1가)  063-232-8294\n",
              "4     효성2동점                      인천광역시 계양구  마장로 549, 1층  032-547-8294\n",
              "5       회덕점                           경기도 광주시  이배재로 108  031-797-9293\n",
              "6     황상인의점                            경상북도 구미시  여현로 80  054-473-9482\n",
              "7       화천점                        강원도 화천군 화천읍 중앙로 37번지  033-442-9994\n",
              "8     화정1동점                   경기도 고양시 덕양구  은빛로29번길 15-4  031-967-9592\n",
              "9       화양점                   서울특별시 광진구   능동로19길 53, 1층   02-461-9993"
            ],
            "text/html": [
              "\n",
              "  <div id=\"df-26116a6f-6c8e-4a96-ae29-d45294e2d230\">\n",
              "    <div class=\"colab-df-container\">\n",
              "      <div>\n",
              "<style scoped>\n",
              "    .dataframe tbody tr th:only-of-type {\n",
              "        vertical-align: middle;\n",
              "    }\n",
              "\n",
              "    .dataframe tbody tr th {\n",
              "        vertical-align: top;\n",
              "    }\n",
              "\n",
              "    .dataframe thead th {\n",
              "        text-align: right;\n",
              "    }\n",
              "</style>\n",
              "<table border=\"1\" class=\"dataframe\">\n",
              "  <thead>\n",
              "    <tr style=\"text-align: right;\">\n",
              "      <th></th>\n",
              "      <th>name</th>\n",
              "      <th>address</th>\n",
              "      <th>telephone</th>\n",
              "    </tr>\n",
              "  </thead>\n",
              "  <tbody>\n",
              "    <tr>\n",
              "      <th>0</th>\n",
              "      <td>흥덕지구점</td>\n",
              "      <td>경기도 용인시 기흥구  흥덕1로 79번길 9, 105호</td>\n",
              "      <td>031-212-9293</td>\n",
              "    </tr>\n",
              "    <tr>\n",
              "      <th>1</th>\n",
              "      <td>후곡점</td>\n",
              "      <td>경기도 고양시 일산서구  일산로 576</td>\n",
              "      <td>031-913-9289</td>\n",
              "    </tr>\n",
              "    <tr>\n",
              "      <th>2</th>\n",
              "      <td>효자중화산2호점</td>\n",
              "      <td>전라북도 전주시 완산구  용머리로 101 상가2동 지1층 201호, 202호</td>\n",
              "      <td>063-223-9492</td>\n",
              "    </tr>\n",
              "    <tr>\n",
              "      <th>3</th>\n",
              "      <td>효자중화산1호점</td>\n",
              "      <td>전라북도 전주시완산구  효동3길 24  1층 (효자동1가)</td>\n",
              "      <td>063-232-8294</td>\n",
              "    </tr>\n",
              "    <tr>\n",
              "      <th>4</th>\n",
              "      <td>효성2동점</td>\n",
              "      <td>인천광역시 계양구  마장로 549, 1층</td>\n",
              "      <td>032-547-8294</td>\n",
              "    </tr>\n",
              "    <tr>\n",
              "      <th>5</th>\n",
              "      <td>회덕점</td>\n",
              "      <td>경기도 광주시  이배재로 108</td>\n",
              "      <td>031-797-9293</td>\n",
              "    </tr>\n",
              "    <tr>\n",
              "      <th>6</th>\n",
              "      <td>황상인의점</td>\n",
              "      <td>경상북도 구미시  여현로 80</td>\n",
              "      <td>054-473-9482</td>\n",
              "    </tr>\n",
              "    <tr>\n",
              "      <th>7</th>\n",
              "      <td>화천점</td>\n",
              "      <td>강원도 화천군 화천읍 중앙로 37번지</td>\n",
              "      <td>033-442-9994</td>\n",
              "    </tr>\n",
              "    <tr>\n",
              "      <th>8</th>\n",
              "      <td>화정1동점</td>\n",
              "      <td>경기도 고양시 덕양구  은빛로29번길 15-4</td>\n",
              "      <td>031-967-9592</td>\n",
              "    </tr>\n",
              "    <tr>\n",
              "      <th>9</th>\n",
              "      <td>화양점</td>\n",
              "      <td>서울특별시 광진구   능동로19길 53, 1층</td>\n",
              "      <td>02-461-9993</td>\n",
              "    </tr>\n",
              "  </tbody>\n",
              "</table>\n",
              "</div>\n",
              "      <button class=\"colab-df-convert\" onclick=\"convertToInteractive('df-26116a6f-6c8e-4a96-ae29-d45294e2d230')\"\n",
              "              title=\"Convert this dataframe to an interactive table.\"\n",
              "              style=\"display:none;\">\n",
              "        \n",
              "  <svg xmlns=\"http://www.w3.org/2000/svg\" height=\"24px\"viewBox=\"0 0 24 24\"\n",
              "       width=\"24px\">\n",
              "    <path d=\"M0 0h24v24H0V0z\" fill=\"none\"/>\n",
              "    <path d=\"M18.56 5.44l.94 2.06.94-2.06 2.06-.94-2.06-.94-.94-2.06-.94 2.06-2.06.94zm-11 1L8.5 8.5l.94-2.06 2.06-.94-2.06-.94L8.5 2.5l-.94 2.06-2.06.94zm10 10l.94 2.06.94-2.06 2.06-.94-2.06-.94-.94-2.06-.94 2.06-2.06.94z\"/><path d=\"M17.41 7.96l-1.37-1.37c-.4-.4-.92-.59-1.43-.59-.52 0-1.04.2-1.43.59L10.3 9.45l-7.72 7.72c-.78.78-.78 2.05 0 2.83L4 21.41c.39.39.9.59 1.41.59.51 0 1.02-.2 1.41-.59l7.78-7.78 2.81-2.81c.8-.78.8-2.07 0-2.86zM5.41 20L4 18.59l7.72-7.72 1.47 1.35L5.41 20z\"/>\n",
              "  </svg>\n",
              "      </button>\n",
              "      \n",
              "  <style>\n",
              "    .colab-df-container {\n",
              "      display:flex;\n",
              "      flex-wrap:wrap;\n",
              "      gap: 12px;\n",
              "    }\n",
              "\n",
              "    .colab-df-convert {\n",
              "      background-color: #E8F0FE;\n",
              "      border: none;\n",
              "      border-radius: 50%;\n",
              "      cursor: pointer;\n",
              "      display: none;\n",
              "      fill: #1967D2;\n",
              "      height: 32px;\n",
              "      padding: 0 0 0 0;\n",
              "      width: 32px;\n",
              "    }\n",
              "\n",
              "    .colab-df-convert:hover {\n",
              "      background-color: #E2EBFA;\n",
              "      box-shadow: 0px 1px 2px rgba(60, 64, 67, 0.3), 0px 1px 3px 1px rgba(60, 64, 67, 0.15);\n",
              "      fill: #174EA6;\n",
              "    }\n",
              "\n",
              "    [theme=dark] .colab-df-convert {\n",
              "      background-color: #3B4455;\n",
              "      fill: #D2E3FC;\n",
              "    }\n",
              "\n",
              "    [theme=dark] .colab-df-convert:hover {\n",
              "      background-color: #434B5C;\n",
              "      box-shadow: 0px 1px 3px 1px rgba(0, 0, 0, 0.15);\n",
              "      filter: drop-shadow(0px 1px 2px rgba(0, 0, 0, 0.3));\n",
              "      fill: #FFFFFF;\n",
              "    }\n",
              "  </style>\n",
              "\n",
              "      <script>\n",
              "        const buttonEl =\n",
              "          document.querySelector('#df-26116a6f-6c8e-4a96-ae29-d45294e2d230 button.colab-df-convert');\n",
              "        buttonEl.style.display =\n",
              "          google.colab.kernel.accessAllowed ? 'block' : 'none';\n",
              "\n",
              "        async function convertToInteractive(key) {\n",
              "          const element = document.querySelector('#df-26116a6f-6c8e-4a96-ae29-d45294e2d230');\n",
              "          const dataTable =\n",
              "            await google.colab.kernel.invokeFunction('convertToInteractive',\n",
              "                                                     [key], {});\n",
              "          if (!dataTable) return;\n",
              "\n",
              "          const docLinkHtml = 'Like what you see? Visit the ' +\n",
              "            '<a target=\"_blank\" href=https://colab.research.google.com/notebooks/data_table.ipynb>data table notebook</a>'\n",
              "            + ' to learn more about interactive tables.';\n",
              "          element.innerHTML = '';\n",
              "          dataTable['output_type'] = 'display_data';\n",
              "          await google.colab.output.renderOutput(dataTable, element);\n",
              "          const docLink = document.createElement('div');\n",
              "          docLink.innerHTML = docLinkHtml;\n",
              "          element.appendChild(docLink);\n",
              "        }\n",
              "      </script>\n",
              "    </div>\n",
              "  </div>\n",
              "  "
            ]
          },
          "metadata": {},
          "execution_count": 85
        }
      ]
    },
    {
      "cell_type": "markdown",
      "source": [
        "### 셀레니움을 활용한 BHC 치킨 매장정보 크롤링"
      ],
      "metadata": {
        "id": "I4cY5qEvLdGJ"
      }
    },
    {
      "cell_type": "code",
      "source": [
        "bhc_url = 'https://www.bhc.co.kr/location/search.asp?'\n",
        "wd = webdriver.Chrome('chromedriver', options=options)\n",
        "wd.get(bhc_url)\n",
        "wd.execute_script(\"goPage('3')\")\n",
        "time.sleep(5)\n",
        "html_data = wd.page_source\n",
        "soupData = BeautifulSoup(html_data, 'html.parser')\n",
        "\n",
        "tags_div = soupData.find('tbody')\n",
        "print(tags_div)\n"
      ],
      "metadata": {
        "id": "2s7J9GXULi3_"
      },
      "execution_count": null,
      "outputs": []
    },
    {
      "cell_type": "markdown",
      "source": [
        "### 간단한 네네치킨 매장정보 크롤링"
      ],
      "metadata": {
        "id": "txpshjL_LS-G"
      }
    },
    {
      "cell_type": "code",
      "source": [
        "## 네네치킨\n",
        "\n",
        "result = []\n",
        "for page_idx in range(1,2):\n",
        "\n",
        "    html = urllib.request.urlopen('https://nenechicken.com/17_new/sub_shop01.asp?page=%s'%str(page_idx))\n",
        "    soup = BeautifulSoup(html, 'html.parser')\n",
        "    tags = soup.find('div', attrs={'class':'shopWrap'})\n",
        "    tag = tags.findAll('div', attrs={'class':'shopInfo'})\n",
        "    for i in tag:\n",
        "        string = list(i.strings)\n",
        "        print(string)\n",
        "        while '\\n' in string:\n",
        "            string.remove('\\n')\n",
        "        while 'Pizza' in string:\n",
        "            string.remove('Pizza')\n",
        "        print(string)\n",
        "        name = string[0]\n",
        "        address = string[1]\n",
        "\n",
        "        result.append((name,address))\n",
        "\n",
        "table = pd.DataFrame(result , columns = ['name','address'])\n",
        "table\n",
        "\n"
      ],
      "metadata": {
        "colab": {
          "base_uri": "https://localhost:8080/",
          "height": 1000
        },
        "id": "eOmIBiEvANVI",
        "outputId": "99291e1d-6fb7-4ad3-f2e6-d333e8acc3fd"
      },
      "execution_count": 118,
      "outputs": [
        {
          "output_type": "stream",
          "name": "stdout",
          "text": [
            "['\\n', '\\n', '\\n', '\\n', '강원홍천군홍천점', '\\n', '강원 홍천군 홍천읍 갈마로', '\\n']\n",
            "['강원홍천군홍천점', '강원 홍천군 홍천읍 갈마로']\n",
            "['\\n', '\\n', '\\n', '\\n', '강원양구군방산점', '\\n', '강원 양구군 방산면 장거리길', '\\n']\n",
            "['강원양구군방산점', '강원 양구군 방산면 장거리길']\n",
            "['\\n', '\\n', '\\n', '\\n', '강원춘천시퇴계점', '\\n', '강원 춘천시 춘주로', '\\n']\n",
            "['강원춘천시퇴계점', '강원 춘천시 춘주로']\n",
            "['\\n', '\\n', 'Pizza', '\\n', '\\n', '\\n', '강원홍천군시동점', '\\n', '강원 홍천군 남면 시동안로', '\\n']\n",
            "['강원홍천군시동점', '강원 홍천군 남면 시동안로']\n",
            "['\\n', '\\n', 'Pizza', '\\n', '\\n', '\\n', '강원인제군신남점', '\\n', '강원 인제군 남면 신남로', '\\n']\n",
            "['강원인제군신남점', '강원 인제군 남면 신남로']\n",
            "['\\n', '\\n', '\\n', '\\n', '강원춘천시교동후평점', '\\n', '강원 춘천시 성심로', '\\n']\n",
            "['강원춘천시교동후평점', '강원 춘천시 성심로']\n",
            "['\\n', '\\n', 'Pizza', '\\n', '\\n', '\\n', '강원화천군산양리점', '\\n', '강원 화천군 상서면 영서로', '\\n']\n",
            "['강원화천군산양리점', '강원 화천군 상서면 영서로']\n",
            "['\\n', '\\n', 'Pizza', '\\n', '\\n', '\\n', '강원양구군동면점', '\\n', '강원 양구군 동면 금강산로', '\\n']\n",
            "['강원양구군동면점', '강원 양구군 동면 금강산로']\n",
            "['\\n', '\\n', '\\n', '\\n', '강원영월군영월점', '\\n', '강원 영월군 영월읍 은행나무길', '\\n']\n",
            "['강원영월군영월점', '강원 영월군 영월읍 은행나무길']\n",
            "['\\n', '\\n', '\\n', '\\n', '강원강릉시초당점', '\\n', '강원 강릉시 초당원길', '\\n']\n",
            "['강원강릉시초당점', '강원 강릉시 초당원길']\n",
            "['\\n', '\\n', '\\n', '\\n', '강원원주시단계점', '\\n', '강원 원주시 원문로', '\\n']\n",
            "['강원원주시단계점', '강원 원주시 원문로']\n",
            "['\\n', '\\n', '\\n', '\\n', '강원원주시명륜점', '\\n', '강원 원주시 남산로', '\\n']\n",
            "['강원원주시명륜점', '강원 원주시 남산로']\n",
            "['\\n', '\\n', '\\n', '\\n', '강원태백시태백점', '\\n', '강원 태백시 황지로', '\\n']\n",
            "['강원태백시태백점', '강원 태백시 황지로']\n",
            "['\\n', '\\n', '\\n', '\\n', '강원원주시단관점', '\\n', '강원 원주시 단관초교길', '\\n']\n",
            "['강원원주시단관점', '강원 원주시 단관초교길']\n",
            "['\\n', '\\n', '\\n', '\\n', '강원속초시교동점', '\\n', '강원 속초시 동해대로', '\\n']\n",
            "['강원속초시교동점', '강원 속초시 동해대로']\n",
            "['\\n', '\\n', '\\n', '\\n', '강원속초시조양점', '\\n', '강원 속초시 동해대로', '\\n']\n",
            "['강원속초시조양점', '강원 속초시 동해대로']\n",
            "['\\n', '\\n', 'Pizza', '\\n', '\\n', '\\n', '강원원주시문막점', '\\n', '강원 원주시 문막읍 건등로', '\\n']\n",
            "['강원원주시문막점', '강원 원주시 문막읍 건등로']\n",
            "['\\n', '\\n', '\\n', '\\n', '강원동해시부곡점', '\\n', '강원 동해시 발한로', '\\n']\n",
            "['강원동해시부곡점', '강원 동해시 발한로']\n",
            "['\\n', '\\n', '\\n', '\\n', '강원양양군양양점', '\\n', '강원 양양군 양양읍 양양로', '\\n']\n",
            "['강원양양군양양점', '강원 양양군 양양읍 양양로']\n",
            "['\\n', '\\n', '\\n', '\\n', '강원양양군하조대점', '\\n', '강원 양양군 현북면 조준길', '\\n']\n",
            "['강원양양군하조대점', '강원 양양군 현북면 조준길']\n",
            "['\\n', '\\n', '\\n', '\\n', '강원원주시오크밸리점', '\\n', '강원도 원주시 지정면 오크밸리1길', '\\n']\n",
            "['강원원주시오크밸리점', '강원도 원주시 지정면 오크밸리1길']\n",
            "['\\n', '\\n', 'Pizza', '\\n', '\\n', '\\n', '강원철원군지경리점', '\\n', '강원 철원군 갈말읍 청양로', '\\n']\n",
            "['강원철원군지경리점', '강원 철원군 갈말읍 청양로']\n",
            "['\\n', '\\n', 'Pizza', '\\n', '\\n', '\\n', '강원인제군서화점(B)', '\\n', '강원 인제군 서화면 천도로', '\\n']\n",
            "['강원인제군서화점(B)', '강원 인제군 서화면 천도로']\n",
            "['\\n', '\\n', '\\n', '\\n', '강원화천군다목리점', '\\n', '강원 화천군 상서면 수피령로', '\\n']\n",
            "['강원화천군다목리점', '강원 화천군 상서면 수피령로']\n"
          ]
        },
        {
          "output_type": "execute_result",
          "data": {
            "text/plain": [
              "           name             address\n",
              "0      강원홍천군홍천점      강원 홍천군 홍천읍 갈마로\n",
              "1      강원양구군방산점     강원 양구군 방산면 장거리길\n",
              "2      강원춘천시퇴계점          강원 춘천시 춘주로\n",
              "3      강원홍천군시동점      강원 홍천군 남면 시동안로\n",
              "4      강원인제군신남점       강원 인제군 남면 신남로\n",
              "5    강원춘천시교동후평점          강원 춘천시 성심로\n",
              "6     강원화천군산양리점      강원 화천군 상서면 영서로\n",
              "7      강원양구군동면점      강원 양구군 동면 금강산로\n",
              "8      강원영월군영월점    강원 영월군 영월읍 은행나무길\n",
              "9      강원강릉시초당점         강원 강릉시 초당원길\n",
              "10     강원원주시단계점          강원 원주시 원문로\n",
              "11     강원원주시명륜점          강원 원주시 남산로\n",
              "12     강원태백시태백점          강원 태백시 황지로\n",
              "13     강원원주시단관점        강원 원주시 단관초교길\n",
              "14     강원속초시교동점         강원 속초시 동해대로\n",
              "15     강원속초시조양점         강원 속초시 동해대로\n",
              "16     강원원주시문막점      강원 원주시 문막읍 건등로\n",
              "17     강원동해시부곡점          강원 동해시 발한로\n",
              "18     강원양양군양양점      강원 양양군 양양읍 양양로\n",
              "19    강원양양군하조대점      강원 양양군 현북면 조준길\n",
              "20   강원원주시오크밸리점  강원도 원주시 지정면 오크밸리1길\n",
              "21    강원철원군지경리점      강원 철원군 갈말읍 청양로\n",
              "22  강원인제군서화점(B)      강원 인제군 서화면 천도로\n",
              "23    강원화천군다목리점     강원 화천군 상서면 수피령로"
            ],
            "text/html": [
              "\n",
              "  <div id=\"df-2cbf65be-10c3-4ce2-a226-6802a865f043\">\n",
              "    <div class=\"colab-df-container\">\n",
              "      <div>\n",
              "<style scoped>\n",
              "    .dataframe tbody tr th:only-of-type {\n",
              "        vertical-align: middle;\n",
              "    }\n",
              "\n",
              "    .dataframe tbody tr th {\n",
              "        vertical-align: top;\n",
              "    }\n",
              "\n",
              "    .dataframe thead th {\n",
              "        text-align: right;\n",
              "    }\n",
              "</style>\n",
              "<table border=\"1\" class=\"dataframe\">\n",
              "  <thead>\n",
              "    <tr style=\"text-align: right;\">\n",
              "      <th></th>\n",
              "      <th>name</th>\n",
              "      <th>address</th>\n",
              "    </tr>\n",
              "  </thead>\n",
              "  <tbody>\n",
              "    <tr>\n",
              "      <th>0</th>\n",
              "      <td>강원홍천군홍천점</td>\n",
              "      <td>강원 홍천군 홍천읍 갈마로</td>\n",
              "    </tr>\n",
              "    <tr>\n",
              "      <th>1</th>\n",
              "      <td>강원양구군방산점</td>\n",
              "      <td>강원 양구군 방산면 장거리길</td>\n",
              "    </tr>\n",
              "    <tr>\n",
              "      <th>2</th>\n",
              "      <td>강원춘천시퇴계점</td>\n",
              "      <td>강원 춘천시 춘주로</td>\n",
              "    </tr>\n",
              "    <tr>\n",
              "      <th>3</th>\n",
              "      <td>강원홍천군시동점</td>\n",
              "      <td>강원 홍천군 남면 시동안로</td>\n",
              "    </tr>\n",
              "    <tr>\n",
              "      <th>4</th>\n",
              "      <td>강원인제군신남점</td>\n",
              "      <td>강원 인제군 남면 신남로</td>\n",
              "    </tr>\n",
              "    <tr>\n",
              "      <th>5</th>\n",
              "      <td>강원춘천시교동후평점</td>\n",
              "      <td>강원 춘천시 성심로</td>\n",
              "    </tr>\n",
              "    <tr>\n",
              "      <th>6</th>\n",
              "      <td>강원화천군산양리점</td>\n",
              "      <td>강원 화천군 상서면 영서로</td>\n",
              "    </tr>\n",
              "    <tr>\n",
              "      <th>7</th>\n",
              "      <td>강원양구군동면점</td>\n",
              "      <td>강원 양구군 동면 금강산로</td>\n",
              "    </tr>\n",
              "    <tr>\n",
              "      <th>8</th>\n",
              "      <td>강원영월군영월점</td>\n",
              "      <td>강원 영월군 영월읍 은행나무길</td>\n",
              "    </tr>\n",
              "    <tr>\n",
              "      <th>9</th>\n",
              "      <td>강원강릉시초당점</td>\n",
              "      <td>강원 강릉시 초당원길</td>\n",
              "    </tr>\n",
              "    <tr>\n",
              "      <th>10</th>\n",
              "      <td>강원원주시단계점</td>\n",
              "      <td>강원 원주시 원문로</td>\n",
              "    </tr>\n",
              "    <tr>\n",
              "      <th>11</th>\n",
              "      <td>강원원주시명륜점</td>\n",
              "      <td>강원 원주시 남산로</td>\n",
              "    </tr>\n",
              "    <tr>\n",
              "      <th>12</th>\n",
              "      <td>강원태백시태백점</td>\n",
              "      <td>강원 태백시 황지로</td>\n",
              "    </tr>\n",
              "    <tr>\n",
              "      <th>13</th>\n",
              "      <td>강원원주시단관점</td>\n",
              "      <td>강원 원주시 단관초교길</td>\n",
              "    </tr>\n",
              "    <tr>\n",
              "      <th>14</th>\n",
              "      <td>강원속초시교동점</td>\n",
              "      <td>강원 속초시 동해대로</td>\n",
              "    </tr>\n",
              "    <tr>\n",
              "      <th>15</th>\n",
              "      <td>강원속초시조양점</td>\n",
              "      <td>강원 속초시 동해대로</td>\n",
              "    </tr>\n",
              "    <tr>\n",
              "      <th>16</th>\n",
              "      <td>강원원주시문막점</td>\n",
              "      <td>강원 원주시 문막읍 건등로</td>\n",
              "    </tr>\n",
              "    <tr>\n",
              "      <th>17</th>\n",
              "      <td>강원동해시부곡점</td>\n",
              "      <td>강원 동해시 발한로</td>\n",
              "    </tr>\n",
              "    <tr>\n",
              "      <th>18</th>\n",
              "      <td>강원양양군양양점</td>\n",
              "      <td>강원 양양군 양양읍 양양로</td>\n",
              "    </tr>\n",
              "    <tr>\n",
              "      <th>19</th>\n",
              "      <td>강원양양군하조대점</td>\n",
              "      <td>강원 양양군 현북면 조준길</td>\n",
              "    </tr>\n",
              "    <tr>\n",
              "      <th>20</th>\n",
              "      <td>강원원주시오크밸리점</td>\n",
              "      <td>강원도 원주시 지정면 오크밸리1길</td>\n",
              "    </tr>\n",
              "    <tr>\n",
              "      <th>21</th>\n",
              "      <td>강원철원군지경리점</td>\n",
              "      <td>강원 철원군 갈말읍 청양로</td>\n",
              "    </tr>\n",
              "    <tr>\n",
              "      <th>22</th>\n",
              "      <td>강원인제군서화점(B)</td>\n",
              "      <td>강원 인제군 서화면 천도로</td>\n",
              "    </tr>\n",
              "    <tr>\n",
              "      <th>23</th>\n",
              "      <td>강원화천군다목리점</td>\n",
              "      <td>강원 화천군 상서면 수피령로</td>\n",
              "    </tr>\n",
              "  </tbody>\n",
              "</table>\n",
              "</div>\n",
              "      <button class=\"colab-df-convert\" onclick=\"convertToInteractive('df-2cbf65be-10c3-4ce2-a226-6802a865f043')\"\n",
              "              title=\"Convert this dataframe to an interactive table.\"\n",
              "              style=\"display:none;\">\n",
              "        \n",
              "  <svg xmlns=\"http://www.w3.org/2000/svg\" height=\"24px\"viewBox=\"0 0 24 24\"\n",
              "       width=\"24px\">\n",
              "    <path d=\"M0 0h24v24H0V0z\" fill=\"none\"/>\n",
              "    <path d=\"M18.56 5.44l.94 2.06.94-2.06 2.06-.94-2.06-.94-.94-2.06-.94 2.06-2.06.94zm-11 1L8.5 8.5l.94-2.06 2.06-.94-2.06-.94L8.5 2.5l-.94 2.06-2.06.94zm10 10l.94 2.06.94-2.06 2.06-.94-2.06-.94-.94-2.06-.94 2.06-2.06.94z\"/><path d=\"M17.41 7.96l-1.37-1.37c-.4-.4-.92-.59-1.43-.59-.52 0-1.04.2-1.43.59L10.3 9.45l-7.72 7.72c-.78.78-.78 2.05 0 2.83L4 21.41c.39.39.9.59 1.41.59.51 0 1.02-.2 1.41-.59l7.78-7.78 2.81-2.81c.8-.78.8-2.07 0-2.86zM5.41 20L4 18.59l7.72-7.72 1.47 1.35L5.41 20z\"/>\n",
              "  </svg>\n",
              "      </button>\n",
              "      \n",
              "  <style>\n",
              "    .colab-df-container {\n",
              "      display:flex;\n",
              "      flex-wrap:wrap;\n",
              "      gap: 12px;\n",
              "    }\n",
              "\n",
              "    .colab-df-convert {\n",
              "      background-color: #E8F0FE;\n",
              "      border: none;\n",
              "      border-radius: 50%;\n",
              "      cursor: pointer;\n",
              "      display: none;\n",
              "      fill: #1967D2;\n",
              "      height: 32px;\n",
              "      padding: 0 0 0 0;\n",
              "      width: 32px;\n",
              "    }\n",
              "\n",
              "    .colab-df-convert:hover {\n",
              "      background-color: #E2EBFA;\n",
              "      box-shadow: 0px 1px 2px rgba(60, 64, 67, 0.3), 0px 1px 3px 1px rgba(60, 64, 67, 0.15);\n",
              "      fill: #174EA6;\n",
              "    }\n",
              "\n",
              "    [theme=dark] .colab-df-convert {\n",
              "      background-color: #3B4455;\n",
              "      fill: #D2E3FC;\n",
              "    }\n",
              "\n",
              "    [theme=dark] .colab-df-convert:hover {\n",
              "      background-color: #434B5C;\n",
              "      box-shadow: 0px 1px 3px 1px rgba(0, 0, 0, 0.15);\n",
              "      filter: drop-shadow(0px 1px 2px rgba(0, 0, 0, 0.3));\n",
              "      fill: #FFFFFF;\n",
              "    }\n",
              "  </style>\n",
              "\n",
              "      <script>\n",
              "        const buttonEl =\n",
              "          document.querySelector('#df-2cbf65be-10c3-4ce2-a226-6802a865f043 button.colab-df-convert');\n",
              "        buttonEl.style.display =\n",
              "          google.colab.kernel.accessAllowed ? 'block' : 'none';\n",
              "\n",
              "        async function convertToInteractive(key) {\n",
              "          const element = document.querySelector('#df-2cbf65be-10c3-4ce2-a226-6802a865f043');\n",
              "          const dataTable =\n",
              "            await google.colab.kernel.invokeFunction('convertToInteractive',\n",
              "                                                     [key], {});\n",
              "          if (!dataTable) return;\n",
              "\n",
              "          const docLinkHtml = 'Like what you see? Visit the ' +\n",
              "            '<a target=\"_blank\" href=https://colab.research.google.com/notebooks/data_table.ipynb>data table notebook</a>'\n",
              "            + ' to learn more about interactive tables.';\n",
              "          element.innerHTML = '';\n",
              "          dataTable['output_type'] = 'display_data';\n",
              "          await google.colab.output.renderOutput(dataTable, element);\n",
              "          const docLink = document.createElement('div');\n",
              "          docLink.innerHTML = docLinkHtml;\n",
              "          element.appendChild(docLink);\n",
              "        }\n",
              "      </script>\n",
              "    </div>\n",
              "  </div>\n",
              "  "
            ]
          },
          "metadata": {},
          "execution_count": 118
        }
      ]
    }
  ]
}